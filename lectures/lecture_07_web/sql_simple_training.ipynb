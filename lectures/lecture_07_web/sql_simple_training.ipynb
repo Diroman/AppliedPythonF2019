{
 "cells": [
  {
   "cell_type": "code",
   "execution_count": null,
   "metadata": {},
   "outputs": [],
   "source": [
    "#!sudo apt-get install libpq-dev -y\n",
    "!pip install psycopg2"
   ]
  },
  {
   "cell_type": "markdown",
   "metadata": {},
   "source": [
    "# General psql queries"
   ]
  },
  {
   "cell_type": "code",
   "execution_count": 1,
   "metadata": {},
   "outputs": [],
   "source": [
    "import psycopg2"
   ]
  },
  {
   "cell_type": "code",
   "execution_count": 4,
   "metadata": {},
   "outputs": [],
   "source": [
    "#открываем соединение\n",
    "conn_string=\"dbname='{}' user='{}' host='{}' password='{}'\".format(\"titanik_db4\", \"student4\",\n",
    "                                                                  \"ec2-18-202-17-151.eu-west-1.compute.amazonaws.com\",\n",
    "                                                                  \"student4\")\n",
    "conn = psycopg2.connect(conn_string)\n",
    "cursor = conn.cursor()"
   ]
  },
  {
   "cell_type": "markdown",
   "metadata": {},
   "source": [
    "# Создаем таблицы в базе"
   ]
  },
  {
   "cell_type": "code",
   "execution_count": 3,
   "metadata": {
    "scrolled": true
   },
   "outputs": [
    {
     "data": {
      "text/html": [
       "<div>\n",
       "<style scoped>\n",
       "    .dataframe tbody tr th:only-of-type {\n",
       "        vertical-align: middle;\n",
       "    }\n",
       "\n",
       "    .dataframe tbody tr th {\n",
       "        vertical-align: top;\n",
       "    }\n",
       "\n",
       "    .dataframe thead th {\n",
       "        text-align: right;\n",
       "    }\n",
       "</style>\n",
       "<table border=\"1\" class=\"dataframe\">\n",
       "  <thead>\n",
       "    <tr style=\"text-align: right;\">\n",
       "      <th></th>\n",
       "      <th>pclass</th>\n",
       "      <th>survived</th>\n",
       "      <th>name</th>\n",
       "      <th>sex</th>\n",
       "      <th>age</th>\n",
       "      <th>sibsp</th>\n",
       "      <th>parch</th>\n",
       "      <th>ticket</th>\n",
       "      <th>fare</th>\n",
       "      <th>cabin</th>\n",
       "      <th>embarked</th>\n",
       "      <th>boat</th>\n",
       "      <th>body</th>\n",
       "      <th>home.dest</th>\n",
       "      <th>prename</th>\n",
       "    </tr>\n",
       "  </thead>\n",
       "  <tbody>\n",
       "    <tr>\n",
       "      <td>0</td>\n",
       "      <td>0</td>\n",
       "      <td>1</td>\n",
       "      <td>Allen, Miss. Elisabeth Walton</td>\n",
       "      <td>0</td>\n",
       "      <td>29.0000</td>\n",
       "      <td>0</td>\n",
       "      <td>0</td>\n",
       "      <td>24160</td>\n",
       "      <td>211.3375</td>\n",
       "      <td>B5</td>\n",
       "      <td>3</td>\n",
       "      <td>2</td>\n",
       "      <td>NaN</td>\n",
       "      <td>St Louis, MO</td>\n",
       "      <td>16</td>\n",
       "    </tr>\n",
       "    <tr>\n",
       "      <td>1</td>\n",
       "      <td>0</td>\n",
       "      <td>1</td>\n",
       "      <td>Allison, Master. Hudson Trevor</td>\n",
       "      <td>1</td>\n",
       "      <td>0.9167</td>\n",
       "      <td>1</td>\n",
       "      <td>2</td>\n",
       "      <td>113781</td>\n",
       "      <td>151.5500</td>\n",
       "      <td>C22 C26</td>\n",
       "      <td>3</td>\n",
       "      <td>11</td>\n",
       "      <td>NaN</td>\n",
       "      <td>Montreal, PQ / Chesterville, ON</td>\n",
       "      <td>13</td>\n",
       "    </tr>\n",
       "    <tr>\n",
       "      <td>2</td>\n",
       "      <td>0</td>\n",
       "      <td>0</td>\n",
       "      <td>Allison, Miss. Helen Loraine</td>\n",
       "      <td>0</td>\n",
       "      <td>2.0000</td>\n",
       "      <td>1</td>\n",
       "      <td>2</td>\n",
       "      <td>113781</td>\n",
       "      <td>151.5500</td>\n",
       "      <td>C22 C26</td>\n",
       "      <td>3</td>\n",
       "      <td>NaN</td>\n",
       "      <td>NaN</td>\n",
       "      <td>Montreal, PQ / Chesterville, ON</td>\n",
       "      <td>16</td>\n",
       "    </tr>\n",
       "    <tr>\n",
       "      <td>3</td>\n",
       "      <td>0</td>\n",
       "      <td>0</td>\n",
       "      <td>Allison, Mr. Hudson Joshua Creighton</td>\n",
       "      <td>1</td>\n",
       "      <td>30.0000</td>\n",
       "      <td>1</td>\n",
       "      <td>2</td>\n",
       "      <td>113781</td>\n",
       "      <td>151.5500</td>\n",
       "      <td>C22 C26</td>\n",
       "      <td>3</td>\n",
       "      <td>NaN</td>\n",
       "      <td>135.0</td>\n",
       "      <td>Montreal, PQ / Chesterville, ON</td>\n",
       "      <td>19</td>\n",
       "    </tr>\n",
       "    <tr>\n",
       "      <td>4</td>\n",
       "      <td>0</td>\n",
       "      <td>0</td>\n",
       "      <td>Allison, Mrs. Hudson J C (Bessie Waldo Daniels)</td>\n",
       "      <td>0</td>\n",
       "      <td>25.0000</td>\n",
       "      <td>1</td>\n",
       "      <td>2</td>\n",
       "      <td>113781</td>\n",
       "      <td>151.5500</td>\n",
       "      <td>C22 C26</td>\n",
       "      <td>3</td>\n",
       "      <td>NaN</td>\n",
       "      <td>NaN</td>\n",
       "      <td>Montreal, PQ / Chesterville, ON</td>\n",
       "      <td>20</td>\n",
       "    </tr>\n",
       "  </tbody>\n",
       "</table>\n",
       "</div>"
      ],
      "text/plain": [
       "   pclass  survived                                             name  sex  \\\n",
       "0       0         1                    Allen, Miss. Elisabeth Walton    0   \n",
       "1       0         1                   Allison, Master. Hudson Trevor    1   \n",
       "2       0         0                     Allison, Miss. Helen Loraine    0   \n",
       "3       0         0             Allison, Mr. Hudson Joshua Creighton    1   \n",
       "4       0         0  Allison, Mrs. Hudson J C (Bessie Waldo Daniels)    0   \n",
       "\n",
       "       age  sibsp  parch  ticket      fare    cabin  embarked boat   body  \\\n",
       "0  29.0000      0      0   24160  211.3375       B5         3    2    NaN   \n",
       "1   0.9167      1      2  113781  151.5500  C22 C26         3   11    NaN   \n",
       "2   2.0000      1      2  113781  151.5500  C22 C26         3  NaN    NaN   \n",
       "3  30.0000      1      2  113781  151.5500  C22 C26         3  NaN  135.0   \n",
       "4  25.0000      1      2  113781  151.5500  C22 C26         3  NaN    NaN   \n",
       "\n",
       "                         home.dest  prename  \n",
       "0                     St Louis, MO       16  \n",
       "1  Montreal, PQ / Chesterville, ON       13  \n",
       "2  Montreal, PQ / Chesterville, ON       16  \n",
       "3  Montreal, PQ / Chesterville, ON       19  \n",
       "4  Montreal, PQ / Chesterville, ON       20  "
      ]
     },
     "execution_count": 3,
     "metadata": {},
     "output_type": "execute_result"
    }
   ],
   "source": [
    "import pandas as pd\n",
    "from sklearn.preprocessing import LabelEncoder\n",
    "\n",
    "data = pd.read_csv(\"../lecture_05_ml/notebooks/titanik.tsv\", sep='|', index_col=0)\n",
    "data['prename'] = data['name'].apply(lambda x: x.split()[1].strip(\".\"))\n",
    "data['pclass'] = data['pclass'].apply(str)\n",
    "data['age'].fillna(0, inplace=True)\n",
    "data['age'] = data['age'].apply(float)\n",
    "data['fare'].fillna(0, inplace=True)\n",
    "data['fare'] = data['fare'].apply(float)\n",
    "data['embarked'].fillna(\"None\", inplace=True)\n",
    "\n",
    "lbl_embarked = LabelEncoder().fit(data['embarked'])\n",
    "lbl_pclass = LabelEncoder().fit(data['pclass'])\n",
    "lbl_prename = LabelEncoder().fit(data['prename'])\n",
    "lbl_sex = LabelEncoder().fit(data['sex'])\n",
    "\n",
    "data['embarked'] = lbl_embarked.transform(data['embarked'])\n",
    "data['pclass'] = lbl_pclass.transform(data['pclass'])\n",
    "data['prename'] = lbl_prename.transform(data['prename'])\n",
    "data['sex'] = lbl_sex.transform(data['sex'])\n",
    "\n",
    "data.head()"
   ]
  },
  {
   "cell_type": "code",
   "execution_count": 40,
   "metadata": {},
   "outputs": [
    {
     "name": "stdout",
     "output_type": "stream",
     "text": [
      "pclass\n",
      "survived\n",
      "name\n",
      "sex\n",
      "age\n",
      "sibsp\n",
      "parch\n",
      "ticket\n",
      "fare\n",
      "cabin\n",
      "embarked\n",
      "boat\n",
      "body\n",
      "home.dest\n",
      "prename\n"
     ]
    }
   ],
   "source": [
    "for d in data[:4]:\n",
    "    print(d)"
   ]
  },
  {
   "cell_type": "code",
   "execution_count": 5,
   "metadata": {},
   "outputs": [],
   "source": [
    "# Создадим впомогательные таблицы и заполним их\n",
    "create_additional = '''\n",
    "        CREATE TABLE embarked (\n",
    "        embarked_id serial PRIMARY KEY,\n",
    "        embarked_type VARCHAR(10) NOT NULL UNIQUE\n",
    "        );\n",
    "        CREATE TABLE pclass (\n",
    "        pclass_id serial PRIMARY KEY,\n",
    "        pclass_type VARCHAR(10) NOT NULL UNIQUE\n",
    "        );\n",
    "        '''\n",
    "cursor.execute(create_additional)\n",
    "conn.commit()"
   ]
  },
  {
   "cell_type": "code",
   "execution_count": 6,
   "metadata": {},
   "outputs": [],
   "source": [
    "insert_query = '''INSERT INTO embarked (embarked_id, embarked_type) VALUES (%s, %s)'''\n",
    "cursor.executemany(insert_query, list(zip(range(len(lbl_embarked.classes_)), lbl_embarked.classes_)))\n",
    "conn.commit()\n",
    "insert_query = '''INSERT INTO pclass (pclass_id, pclass_type) VALUES (%s, %s)'''\n",
    "cursor.executemany(insert_query, list(zip(range(len(lbl_pclass.classes_)), lbl_pclass.classes_)))\n",
    "conn.commit()"
   ]
  },
  {
   "cell_type": "code",
   "execution_count": 25,
   "metadata": {},
   "outputs": [],
   "source": [
    "#TODO Создайте таблицу для prename (и заполните её)\n",
    "create_prename = \"\"\"CREATE TABLE prename (\n",
    "                    prename_id serial PRIMARY KEY,\n",
    "                    prename VARCHAR NOT NULL \n",
    "                    )\"\"\"\n",
    "cursor.execute(create_prename)\n",
    "conn.commit()"
   ]
  },
  {
   "cell_type": "code",
   "execution_count": 31,
   "metadata": {},
   "outputs": [],
   "source": [
    "conn.commit() "
   ]
  },
  {
   "cell_type": "code",
   "execution_count": 26,
   "metadata": {},
   "outputs": [],
   "source": [
    "insert_query = '''INSERT INTO prename VALUES (%s, %s)'''\n",
    "cursor.executemany(insert_query, list(zip(range(len(lbl_prename.classes_)), lbl_prename.classes_)))\n",
    "conn.commit()"
   ]
  },
  {
   "cell_type": "code",
   "execution_count": 27,
   "metadata": {},
   "outputs": [],
   "source": [
    "#TODO Создайте таблицу для пола\n",
    "create_sex = \"\"\"CREATE TABLE sex (\n",
    "                    sex_id serial PRIMARY KEY,\n",
    "                    sex VARCHAR NOT NULL \n",
    "                    )\"\"\"\n",
    "cursor.execute(create_sex)\n",
    "conn.commit()"
   ]
  },
  {
   "cell_type": "code",
   "execution_count": 32,
   "metadata": {},
   "outputs": [],
   "source": [
    "insert_query = '''INSERT INTO sex VALUES (%s, %s)'''\n",
    "cursor.executemany(insert_query, list(zip(range(len(lbl_sex.classes_)), lbl_sex.classes_)))\n",
    "conn.commit()"
   ]
  },
  {
   "cell_type": "code",
   "execution_count": 33,
   "metadata": {
    "collapsed": true
   },
   "outputs": [
    {
     "data": {
      "text/plain": [
       "Index(['pclass', 'survived', 'name', 'sex', 'age', 'sibsp', 'parch', 'ticket',\n",
       "       'fare', 'cabin', 'embarked', 'boat', 'body', 'home.dest', 'prename'],\n",
       "      dtype='object')"
      ]
     },
     "execution_count": 33,
     "metadata": {},
     "output_type": "execute_result"
    }
   ],
   "source": [
    "data.columns"
   ]
  },
  {
   "cell_type": "code",
   "execution_count": 34,
   "metadata": {
    "collapsed": true
   },
   "outputs": [
    {
     "name": "stdout",
     "output_type": "stream",
     "text": [
      "<class 'pandas.core.frame.DataFrame'>\n",
      "Int64Index: 1309 entries, 0 to 1308\n",
      "Data columns (total 15 columns):\n",
      "pclass       1309 non-null int64\n",
      "survived     1309 non-null int64\n",
      "name         1309 non-null object\n",
      "sex          1309 non-null int64\n",
      "age          1309 non-null float64\n",
      "sibsp        1309 non-null int64\n",
      "parch        1309 non-null int64\n",
      "ticket       1309 non-null object\n",
      "fare         1309 non-null float64\n",
      "cabin        295 non-null object\n",
      "embarked     1309 non-null int64\n",
      "boat         486 non-null object\n",
      "body         121 non-null float64\n",
      "home.dest    745 non-null object\n",
      "prename      1309 non-null int64\n",
      "dtypes: float64(3), int64(7), object(5)\n",
      "memory usage: 163.6+ KB\n"
     ]
    }
   ],
   "source": [
    "data.info()"
   ]
  },
  {
   "cell_type": "code",
   "execution_count": 50,
   "metadata": {},
   "outputs": [],
   "source": [
    "cursor.execute(\"DROP TABLE titanik;\")\n",
    "conn.commit()"
   ]
  },
  {
   "cell_type": "code",
   "execution_count": 51,
   "metadata": {},
   "outputs": [],
   "source": [
    "#TODO создать основную таблицу\n",
    "create_table = \"\"\"\n",
    "    CREATE TABLE titanik (\n",
    "        id serial PRIMARY KEY,\n",
    "        id_pclass INT REFERENCES pclass(pclass_id),\n",
    "        survived INT,\n",
    "        name VARCHAR,\n",
    "        id_sex INT REFERENCES sex(sex_id),\n",
    "        age FLOAT,\n",
    "        sibsp INT,\n",
    "        parch INT,\n",
    "        ticket VARCHAR,\n",
    "        fare FLOAT,\n",
    "        cabin VARCHAR,\n",
    "        id_embarked INT REFERENCES embarked(embarked_id),\n",
    "        boat VARCHAR,\n",
    "        body VARCHAR,\n",
    "        dest VARCHAR,\n",
    "        id_prename INT REFERENCES prename(prename_id)\n",
    "    )\n",
    "    \n",
    "\"\"\"\n",
    "\n",
    "cursor.execute(create_table)\n",
    "conn.commit()"
   ]
  },
  {
   "cell_type": "code",
   "execution_count": 52,
   "metadata": {},
   "outputs": [],
   "source": [
    "#TODO вставьте данные из таблицы\n",
    "insert_query = '''\n",
    "    INSERT INTO titanik (id_pclass, survived, name, id_sex, age, sibsp, parch, ticket, fare, cabin, id_embarked, boat, body, dest, id_prename)\n",
    "     VALUES (%s, %s, %s, %s, %s, %s, %s, %s, %s, %s, %s, %s, %s, %s, %s)\n",
    "'''\n",
    "cursor.executemany(insert_query, data.values[:10])\n",
    "conn.commit()"
   ]
  },
  {
   "cell_type": "code",
   "execution_count": 76,
   "metadata": {},
   "outputs": [],
   "source": [
    "conn.commit()"
   ]
  },
  {
   "cell_type": "code",
   "execution_count": 65,
   "metadata": {},
   "outputs": [
    {
     "name": "stdout",
     "output_type": "stream",
     "text": [
      "[(5,), (5,)]\n"
     ]
    }
   ],
   "source": [
    "#TODO Вопрос Кого больше мужчин или женщин?\n",
    "select = \"\"\"SELECT count(*) FROM titanik WHERE id_sex=1\n",
    "            UNION ALL\n",
    "            SELECT count(*) FROM titanik WHERE id_sex=0\"\"\"\n",
    "cursor.execute(select)\n",
    "print(cursor.fetchall())"
   ]
  },
  {
   "cell_type": "code",
   "execution_count": 77,
   "metadata": {},
   "outputs": [
    {
     "ename": "UndefinedTable",
     "evalue": "missing FROM-clause entry for table \"cnt_plp\"\nLINE 2:             SELECT count(*)/cnt_plp.cnt FROM titanik WHERE i...\n                                    ^\n",
     "output_type": "error",
     "traceback": [
      "\u001b[0;31m---------------------------------------------------------------------------\u001b[0m",
      "\u001b[0;31mUndefinedTable\u001b[0m                            Traceback (most recent call last)",
      "\u001b[0;32m<ipython-input-77-01b7004071d8>\u001b[0m in \u001b[0;36m<module>\u001b[0;34m()\u001b[0m\n\u001b[1;32m      2\u001b[0m select = \"\"\"WITH cnt_plp as (SELECT count(*) as cnt FROM titanik)\n\u001b[1;32m      3\u001b[0m             SELECT count(*)/cnt_plp.cnt FROM titanik WHERE id_sex=1\"\"\"\n\u001b[0;32m----> 4\u001b[0;31m \u001b[0mcursor\u001b[0m\u001b[0;34m.\u001b[0m\u001b[0mexecute\u001b[0m\u001b[0;34m(\u001b[0m\u001b[0mselect\u001b[0m\u001b[0;34m)\u001b[0m\u001b[0;34m\u001b[0m\u001b[0;34m\u001b[0m\u001b[0m\n\u001b[0m\u001b[1;32m      5\u001b[0m \u001b[0mprint\u001b[0m\u001b[0;34m(\u001b[0m\u001b[0mcursor\u001b[0m\u001b[0;34m.\u001b[0m\u001b[0mfetchall\u001b[0m\u001b[0;34m(\u001b[0m\u001b[0;34m)\u001b[0m\u001b[0;34m)\u001b[0m\u001b[0;34m\u001b[0m\u001b[0;34m\u001b[0m\u001b[0m\n",
      "\u001b[0;31mUndefinedTable\u001b[0m: missing FROM-clause entry for table \"cnt_plp\"\nLINE 2:             SELECT count(*)/cnt_plp.cnt FROM titanik WHERE i...\n                                    ^\n"
     ]
    }
   ],
   "source": [
    "#TODO Вопрос Какой процент мужчин выжил и какой процент женщин?\n",
    "select = \"\"\"WITH cnt_plp as (SELECT count(*) as cnt FROM titanik)\n",
    "            SELECT count(*)/cnt_plp.cnt FROM titanik WHERE id_sex=1\"\"\"\n",
    "cursor.execute(select)\n",
    "print(cursor.fetchall())"
   ]
  },
  {
   "cell_type": "code",
   "execution_count": null,
   "metadata": {},
   "outputs": [],
   "source": [
    "#TODO Что вы можете сказать выживаемости пассижиров разного класса и пола?"
   ]
  }
 ],
 "metadata": {
  "kernelspec": {
   "display_name": "Python 3",
   "language": "python",
   "name": "python3"
  },
  "language_info": {
   "codemirror_mode": {
    "name": "ipython",
    "version": 3
   },
   "file_extension": ".py",
   "mimetype": "text/x-python",
   "name": "python",
   "nbconvert_exporter": "python",
   "pygments_lexer": "ipython3",
   "version": "3.6.8"
  }
 },
 "nbformat": 4,
 "nbformat_minor": 2
}
